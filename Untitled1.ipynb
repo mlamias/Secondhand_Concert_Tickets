{
 "cells": [
  {
   "cell_type": "code",
   "execution_count": 37,
   "metadata": {},
   "outputs": [],
   "source": [
    "import pandas as pd\n",
    "from sklearn import linear_model\n",
    "from sklearn import cross_validation"
   ]
  },
  {
   "cell_type": "code",
   "execution_count": 27,
   "metadata": {},
   "outputs": [],
   "source": [
    "reg_df = pd.read_pickle('Pickles/output_df.pkl')"
   ]
  },
  {
   "cell_type": "code",
   "execution_count": 28,
   "metadata": {},
   "outputs": [
    {
     "data": {
      "text/plain": [
       "Index(['artists', 'date', 'TM_id', 'event_title', 'presale_date_end',\n",
       "       'presale_date_start', 'promoter', 'TM_sale_date_start',\n",
       "       'span multiple days', 'venue', 'TM_venue _lat', 'venue_city',\n",
       "       'TM_venue_long', 'venue_state', 'TM_max', 'TM_min', 'genre', 'subGenre',\n",
       "       'event_type', 'SG_artists_score', 'SG_average_price',\n",
       "       'SG_listing_count', 'SG_max_price', 'SG_min_price', 'SG_venue_score',\n",
       "       'SH_max_price', 'SH_min_price', 'SH_total_postings', 'SH_total_tickets',\n",
       "       'spotify_followers', 'spotify_popularity', 'spotify_avg_followers',\n",
       "       'spotify_avg_popularity', 'spotify_null_count', 'days_until_show',\n",
       "       'day_of_week', 'presale_length', 'days_on_sale', 'artist_count',\n",
       "       'avg_resale_min', 'avg_resale_max', 'min_source', 'max_source',\n",
       "       'min_markup%', 'max_markup%', 'avg_ticket_listings'],\n",
       "      dtype='object')"
      ]
     },
     "execution_count": 28,
     "metadata": {},
     "output_type": "execute_result"
    }
   ],
   "source": [
    "reg_df.columns"
   ]
  },
  {
   "cell_type": "code",
   "execution_count": 29,
   "metadata": {},
   "outputs": [],
   "source": [
    "#Drop excess columns\n",
    "drop_columns = ['artists', 'date', 'TM_id', 'TM_sale_date_start','event_title', 'presale_date_start','presale_date_end','span multiple days', \n",
    "                'venue', 'TM_venue _lat', 'venue_city','TM_venue_long', 'TM_max','SG_listing_count', 'SH_total_postings','SH_total_tickets',\n",
    "               'event_type', 'SG_artists_score', 'SG_average_price','SG_max_price', 'SG_min_price',\n",
    "                'SH_max_price', 'SH_min_price','spotify_followers', 'spotify_popularity','max_source','max_markup%','avg_resale_max']\n",
    "reg_df.drop(drop_columns,axis=1,inplace=True)"
   ]
  },
  {
   "cell_type": "code",
   "execution_count": 30,
   "metadata": {},
   "outputs": [
    {
     "data": {
      "text/plain": [
       "Index(['promoter', 'venue_state', 'TM_min', 'genre', 'subGenre',\n",
       "       'SG_venue_score', 'spotify_avg_followers', 'spotify_avg_popularity',\n",
       "       'spotify_null_count', 'days_until_show', 'day_of_week',\n",
       "       'presale_length', 'days_on_sale', 'artist_count', 'avg_resale_min',\n",
       "       'min_source', 'min_markup%', 'avg_ticket_listings'],\n",
       "      dtype='object')"
      ]
     },
     "execution_count": 30,
     "metadata": {},
     "output_type": "execute_result"
    }
   ],
   "source": [
    "reg_df.columns"
   ]
  },
  {
   "cell_type": "code",
   "execution_count": 43,
   "metadata": {},
   "outputs": [],
   "source": [
    "categorical= ['promoter','genre', 'subGenre','day_of_week','venue_state','min_source']"
   ]
  },
  {
   "cell_type": "code",
   "execution_count": 44,
   "metadata": {},
   "outputs": [],
   "source": [
    "processed_df= pd.get_dummies(columns=categorical,data=reg_df,prefix=categorical)"
   ]
  },
  {
   "cell_type": "code",
   "execution_count": 45,
   "metadata": {},
   "outputs": [],
   "source": [
    "processed_df.SG_venue_score.fillna(.5,inplace=True)"
   ]
  },
  {
   "cell_type": "code",
   "execution_count": 46,
   "metadata": {},
   "outputs": [
    {
     "data": {
      "text/plain": [
       "Index(['TM_min', 'SG_venue_score', 'spotify_avg_followers',\n",
       "       'spotify_avg_popularity', 'spotify_null_count', 'days_until_show',\n",
       "       'presale_length', 'days_on_sale', 'artist_count', 'avg_resale_min',\n",
       "       'min_markup%', 'avg_ticket_listings', 'promoter_AEG LIVE',\n",
       "       'promoter_CROSSROADS PRESENTS', 'promoter_FRANK PRODUCTIONS',\n",
       "       'promoter_HOUSE OF BLUES CONCERTS (HOB)', 'promoter_LIVE NATION MUSIC',\n",
       "       'promoter_MASQUERADE', 'promoter_Other', 'promoter_PROMO WEST',\n",
       "       'promoter_PROMOTED BY VENUE', 'genre_Blues', 'genre_Country',\n",
       "       'genre_Dance/Electronic', 'genre_Folk', 'genre_Hip-Hop/Rap',\n",
       "       'genre_Jazz', 'genre_Metal', 'genre_Other', 'genre_Pop', 'genre_R&B',\n",
       "       'genre_Religious', 'genre_Rock', 'genre_Undefined', 'genre_World',\n",
       "       'subGenre_Adult Contemporary', 'subGenre_Alternative Rock',\n",
       "       'subGenre_Blues', 'subGenre_Club Dance', 'subGenre_Country',\n",
       "       'subGenre_Folk', 'subGenre_Gospel', 'subGenre_Heavy Metal',\n",
       "       'subGenre_Jazz', 'subGenre_Latin', 'subGenre_Other', 'subGenre_Pop',\n",
       "       'subGenre_R&B', 'subGenre_Soul', 'subGenre_Undefined', 'subGenre_Urban',\n",
       "       'subGenre_World', 'day_of_week_0', 'day_of_week_1', 'day_of_week_2',\n",
       "       'day_of_week_3', 'day_of_week_4', 'day_of_week_5', 'day_of_week_6',\n",
       "       'venue_state_CA', 'venue_state_FL', 'venue_state_GA', 'venue_state_IL',\n",
       "       'venue_state_IN', 'venue_state_KY', 'venue_state_LA', 'venue_state_MA',\n",
       "       'venue_state_MD', 'venue_state_ME', 'venue_state_MI', 'venue_state_MO',\n",
       "       'venue_state_NC', 'venue_state_NJ', 'venue_state_NV', 'venue_state_NY',\n",
       "       'venue_state_OH', 'venue_state_PA', 'venue_state_TN', 'venue_state_TX',\n",
       "       'venue_state_VA', 'min_source_Both', 'min_source_SG', 'min_source_SH'],\n",
       "      dtype='object')"
      ]
     },
     "execution_count": 46,
     "metadata": {},
     "output_type": "execute_result"
    }
   ],
   "source": [
    "processed_df.columns"
   ]
  },
  {
   "cell_type": "code",
   "execution_count": 47,
   "metadata": {},
   "outputs": [],
   "source": [
    "X = processed_df.drop(['min_markup%'],1)\n",
    "y = processed_df['min_markup%']"
   ]
  },
  {
   "cell_type": "code",
   "execution_count": 48,
   "metadata": {},
   "outputs": [
    {
     "ename": "ValueError",
     "evalue": "Input contains NaN, infinity or a value too large for dtype('float64').",
     "output_type": "error",
     "traceback": [
      "\u001b[0;31m---------------------------------------------------------------------------\u001b[0m",
      "\u001b[0;31mValueError\u001b[0m                                Traceback (most recent call last)",
      "\u001b[0;32m<ipython-input-48-32f5b39890dc>\u001b[0m in \u001b[0;36m<module>\u001b[0;34m()\u001b[0m\n\u001b[1;32m      1\u001b[0m \u001b[0mclf\u001b[0m \u001b[0;34m=\u001b[0m \u001b[0mlinear_model\u001b[0m\u001b[0;34m.\u001b[0m\u001b[0mLasso\u001b[0m\u001b[0;34m(\u001b[0m\u001b[0malpha\u001b[0m\u001b[0;34m=\u001b[0m\u001b[0;36m0.1\u001b[0m\u001b[0;34m)\u001b[0m\u001b[0;34m\u001b[0m\u001b[0m\n\u001b[0;32m----> 2\u001b[0;31m \u001b[0mclf\u001b[0m\u001b[0;34m.\u001b[0m\u001b[0mfit\u001b[0m\u001b[0;34m(\u001b[0m\u001b[0mX\u001b[0m\u001b[0;34m,\u001b[0m\u001b[0my\u001b[0m\u001b[0;34m)\u001b[0m\u001b[0;34m\u001b[0m\u001b[0m\n\u001b[0m\u001b[1;32m      3\u001b[0m Lasso(alpha=0.1, copy_X=True, fit_intercept=True, max_iter=1000,\n\u001b[1;32m      4\u001b[0m    \u001b[0mnormalize\u001b[0m\u001b[0;34m=\u001b[0m\u001b[0;32mFalse\u001b[0m\u001b[0;34m,\u001b[0m \u001b[0mpositive\u001b[0m\u001b[0;34m=\u001b[0m\u001b[0;32mFalse\u001b[0m\u001b[0;34m,\u001b[0m \u001b[0mprecompute\u001b[0m\u001b[0;34m=\u001b[0m\u001b[0;32mFalse\u001b[0m\u001b[0;34m,\u001b[0m \u001b[0mrandom_state\u001b[0m\u001b[0;34m=\u001b[0m\u001b[0;32mNone\u001b[0m\u001b[0;34m,\u001b[0m\u001b[0;34m\u001b[0m\u001b[0m\n\u001b[1;32m      5\u001b[0m    selection='cyclic', tol=0.0001, warm_start=False)\n",
      "\u001b[0;32m/usr/local/lib/python3.6/site-packages/sklearn/linear_model/coordinate_descent.py\u001b[0m in \u001b[0;36mfit\u001b[0;34m(self, X, y, check_input)\u001b[0m\n\u001b[1;32m    705\u001b[0m                              \u001b[0morder\u001b[0m\u001b[0;34m=\u001b[0m\u001b[0;34m'F'\u001b[0m\u001b[0;34m,\u001b[0m \u001b[0mdtype\u001b[0m\u001b[0;34m=\u001b[0m\u001b[0;34m[\u001b[0m\u001b[0mnp\u001b[0m\u001b[0;34m.\u001b[0m\u001b[0mfloat64\u001b[0m\u001b[0;34m,\u001b[0m \u001b[0mnp\u001b[0m\u001b[0;34m.\u001b[0m\u001b[0mfloat32\u001b[0m\u001b[0;34m]\u001b[0m\u001b[0;34m,\u001b[0m\u001b[0;34m\u001b[0m\u001b[0m\n\u001b[1;32m    706\u001b[0m                              \u001b[0mcopy\u001b[0m\u001b[0;34m=\u001b[0m\u001b[0mself\u001b[0m\u001b[0;34m.\u001b[0m\u001b[0mcopy_X\u001b[0m \u001b[0;32mand\u001b[0m \u001b[0mself\u001b[0m\u001b[0;34m.\u001b[0m\u001b[0mfit_intercept\u001b[0m\u001b[0;34m,\u001b[0m\u001b[0;34m\u001b[0m\u001b[0m\n\u001b[0;32m--> 707\u001b[0;31m                              multi_output=True, y_numeric=True)\n\u001b[0m\u001b[1;32m    708\u001b[0m             y = check_array(y, order='F', copy=False, dtype=X.dtype.type,\n\u001b[1;32m    709\u001b[0m                             ensure_2d=False)\n",
      "\u001b[0;32m/usr/local/lib/python3.6/site-packages/sklearn/utils/validation.py\u001b[0m in \u001b[0;36mcheck_X_y\u001b[0;34m(X, y, accept_sparse, dtype, order, copy, force_all_finite, ensure_2d, allow_nd, multi_output, ensure_min_samples, ensure_min_features, y_numeric, warn_on_dtype, estimator)\u001b[0m\n\u001b[1;32m    540\u001b[0m     X = check_array(X, accept_sparse, dtype, order, copy, force_all_finite,\n\u001b[1;32m    541\u001b[0m                     \u001b[0mensure_2d\u001b[0m\u001b[0;34m,\u001b[0m \u001b[0mallow_nd\u001b[0m\u001b[0;34m,\u001b[0m \u001b[0mensure_min_samples\u001b[0m\u001b[0;34m,\u001b[0m\u001b[0;34m\u001b[0m\u001b[0m\n\u001b[0;32m--> 542\u001b[0;31m                     ensure_min_features, warn_on_dtype, estimator)\n\u001b[0m\u001b[1;32m    543\u001b[0m     \u001b[0;32mif\u001b[0m \u001b[0mmulti_output\u001b[0m\u001b[0;34m:\u001b[0m\u001b[0;34m\u001b[0m\u001b[0m\n\u001b[1;32m    544\u001b[0m         y = check_array(y, 'csr', force_all_finite=True, ensure_2d=False,\n",
      "\u001b[0;32m/usr/local/lib/python3.6/site-packages/sklearn/utils/validation.py\u001b[0m in \u001b[0;36mcheck_array\u001b[0;34m(array, accept_sparse, dtype, order, copy, force_all_finite, ensure_2d, allow_nd, ensure_min_samples, ensure_min_features, warn_on_dtype, estimator)\u001b[0m\n\u001b[1;32m    420\u001b[0m                              % (array.ndim, estimator_name))\n\u001b[1;32m    421\u001b[0m         \u001b[0;32mif\u001b[0m \u001b[0mforce_all_finite\u001b[0m\u001b[0;34m:\u001b[0m\u001b[0;34m\u001b[0m\u001b[0m\n\u001b[0;32m--> 422\u001b[0;31m             \u001b[0m_assert_all_finite\u001b[0m\u001b[0;34m(\u001b[0m\u001b[0marray\u001b[0m\u001b[0;34m)\u001b[0m\u001b[0;34m\u001b[0m\u001b[0m\n\u001b[0m\u001b[1;32m    423\u001b[0m \u001b[0;34m\u001b[0m\u001b[0m\n\u001b[1;32m    424\u001b[0m     \u001b[0mshape_repr\u001b[0m \u001b[0;34m=\u001b[0m \u001b[0m_shape_repr\u001b[0m\u001b[0;34m(\u001b[0m\u001b[0marray\u001b[0m\u001b[0;34m.\u001b[0m\u001b[0mshape\u001b[0m\u001b[0;34m)\u001b[0m\u001b[0;34m\u001b[0m\u001b[0m\n",
      "\u001b[0;32m/usr/local/lib/python3.6/site-packages/sklearn/utils/validation.py\u001b[0m in \u001b[0;36m_assert_all_finite\u001b[0;34m(X)\u001b[0m\n\u001b[1;32m     41\u001b[0m             and not np.isfinite(X).all()):\n\u001b[1;32m     42\u001b[0m         raise ValueError(\"Input contains NaN, infinity\"\n\u001b[0;32m---> 43\u001b[0;31m                          \" or a value too large for %r.\" % X.dtype)\n\u001b[0m\u001b[1;32m     44\u001b[0m \u001b[0;34m\u001b[0m\u001b[0m\n\u001b[1;32m     45\u001b[0m \u001b[0;34m\u001b[0m\u001b[0m\n",
      "\u001b[0;31mValueError\u001b[0m: Input contains NaN, infinity or a value too large for dtype('float64')."
     ]
    }
   ],
   "source": [
    "clf = linear_model.Lasso(alpha=0.1)\n",
    "clf.fit(X,y)\n",
    "Lasso(alpha=0.1, copy_X=True, fit_intercept=True, max_iter=1000,\n",
    "   normalize=False, positive=False, precompute=False, random_state=None,\n",
    "   selection='cyclic', tol=0.0001, warm_start=False)"
   ]
  },
  {
   "cell_type": "code",
   "execution_count": 53,
   "metadata": {},
   "outputs": [
    {
     "data": {
      "text/plain": [
       "TM_min                                      0\n",
       "SG_venue_score                              0\n",
       "spotify_avg_followers                       0\n",
       "spotify_avg_popularity                      0\n",
       "spotify_null_count                          0\n",
       "days_until_show                             0\n",
       "presale_length                              0\n",
       "days_on_sale                               54\n",
       "artist_count                                0\n",
       "avg_resale_min                            302\n",
       "avg_ticket_listings                       302\n",
       "promoter_AEG LIVE                           0\n",
       "promoter_CROSSROADS PRESENTS                0\n",
       "promoter_FRANK PRODUCTIONS                  0\n",
       "promoter_HOUSE OF BLUES CONCERTS (HOB)      0\n",
       "promoter_LIVE NATION MUSIC                  0\n",
       "promoter_MASQUERADE                         0\n",
       "promoter_Other                              0\n",
       "promoter_PROMO WEST                         0\n",
       "promoter_PROMOTED BY VENUE                  0\n",
       "genre_Blues                                 0\n",
       "genre_Country                               0\n",
       "genre_Dance/Electronic                      0\n",
       "genre_Folk                                  0\n",
       "genre_Hip-Hop/Rap                           0\n",
       "genre_Jazz                                  0\n",
       "genre_Metal                                 0\n",
       "genre_Other                                 0\n",
       "genre_Pop                                   0\n",
       "genre_R&B                                   0\n",
       "                                         ... \n",
       "day_of_week_1                               0\n",
       "day_of_week_2                               0\n",
       "day_of_week_3                               0\n",
       "day_of_week_4                               0\n",
       "day_of_week_5                               0\n",
       "day_of_week_6                               0\n",
       "venue_state_CA                              0\n",
       "venue_state_FL                              0\n",
       "venue_state_GA                              0\n",
       "venue_state_IL                              0\n",
       "venue_state_IN                              0\n",
       "venue_state_KY                              0\n",
       "venue_state_LA                              0\n",
       "venue_state_MA                              0\n",
       "venue_state_MD                              0\n",
       "venue_state_ME                              0\n",
       "venue_state_MI                              0\n",
       "venue_state_MO                              0\n",
       "venue_state_NC                              0\n",
       "venue_state_NJ                              0\n",
       "venue_state_NV                              0\n",
       "venue_state_NY                              0\n",
       "venue_state_OH                              0\n",
       "venue_state_PA                              0\n",
       "venue_state_TN                              0\n",
       "venue_state_TX                              0\n",
       "venue_state_VA                              0\n",
       "min_source_Both                             0\n",
       "min_source_SG                               0\n",
       "min_source_SH                               0\n",
       "Length: 82, dtype: int64"
      ]
     },
     "execution_count": 53,
     "metadata": {},
     "output_type": "execute_result"
    }
   ],
   "source": [
    "X.isnull().sum()"
   ]
  },
  {
   "cell_type": "code",
   "execution_count": null,
   "metadata": {},
   "outputs": [],
   "source": []
  }
 ],
 "metadata": {
  "kernelspec": {
   "display_name": "Python 3",
   "language": "python",
   "name": "python3"
  },
  "language_info": {
   "codemirror_mode": {
    "name": "ipython",
    "version": 3
   },
   "file_extension": ".py",
   "mimetype": "text/x-python",
   "name": "python",
   "nbconvert_exporter": "python",
   "pygments_lexer": "ipython3",
   "version": "3.6.3"
  }
 },
 "nbformat": 4,
 "nbformat_minor": 2
}
