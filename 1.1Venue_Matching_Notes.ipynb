{
 "cells": [
  {
   "cell_type": "markdown",
   "metadata": {},
   "source": [
    "# Venue Matching Notes\n",
    "\n",
    "I explore using a threshold score of 85 to match Ticketmaster venues to their SeatGeek and Stubhub counterparts,\n",
    "with no noticeable difference in the number of venues matched"
   ]
  },
  {
   "cell_type": "code",
   "execution_count": 1,
   "metadata": {},
   "outputs": [],
   "source": [
    "import pandas as pd\n",
    "import matplotlib.pyplot as plt\n",
    "import seaborn as sns\n",
    "from fuzzywuzzy import process\n",
    "%matplotlib inline "
   ]
  },
  {
   "cell_type": "code",
   "execution_count": 2,
   "metadata": {},
   "outputs": [],
   "source": [
    "#Import Dataframes from Master Notebook\n",
    "%store -r tm_df\n",
    "%store -r sg_df\n",
    "%store -r sh_df\n",
    "%store -r sh_venue_score\n",
    "%store -r sg_venue_score"
   ]
  },
  {
   "cell_type": "code",
   "execution_count": 3,
   "metadata": {},
   "outputs": [],
   "source": [
    "def venue_match(row):\n",
    "    \n",
    "    #If an exact match exists of venue name, city, and state, return as 100% match\n",
    "    mask =(tm1['TM_venue'] == row.iloc[0]) & (tm1['TM_venue_city'] == row.iloc[1]) & (tm1['TM_venue_state'] == row.iloc[2])\n",
    "    if not (tm1.loc[mask]).empty:\n",
    "        return row.iloc[0], row.iloc[0],'MATCH', 100\n",
    "    \n",
    "    #If there is not an exact match, look for a fuzzy match where city and state names match up\n",
    "    else:\n",
    "        new_name, score = process.extractOne(row.iloc[0], tm_venues)\n",
    "        if score < 85 \\\n",
    "        or any(tm1['TM_venue_city'].loc[tm1['TM_venue'] == new_name] != row.iloc[1])\\\n",
    "        or any(tm1['TM_venue_state'].loc[tm1['TM_venue'] == new_name] != row.iloc[2]):\n",
    "            return row.iloc[0], row.iloc[0],'NO MATCH',score\n",
    "        else: \n",
    "            return new_name, row.iloc[0], 'MATCH',score"
   ]
  },
  {
   "cell_type": "code",
   "execution_count": 4,
   "metadata": {},
   "outputs": [],
   "source": [
    "#Create DF of unique Ticketmaster venues,and their cities and states\n",
    "tm1 = tm_df[['TM_venue','TM_venue_city','TM_venue_state']].drop_duplicates()\n",
    "#Create DF of unique StubHub venues,and their cities and states\n",
    "sh1 = sh_df[['SH_venue','SH_venue_city','SH_venue_state']].drop_duplicates()\n",
    "#Create DF of unique SeatGeek venues,and their cities and states\n",
    "sg1 = sg_df[['SG_venue','SG_venue_city','SG_venue_state']].drop_duplicates()\n",
    "#Create list of unique TM venue names to compare against\n",
    "tm_venues = tm1['TM_venue'].unique()"
   ]
  },
  {
   "cell_type": "code",
   "execution_count": 5,
   "metadata": {},
   "outputs": [],
   "source": [
    "sh_venue_score85 = pd.DataFrame(sh1.apply(venue_match,axis=1).tolist(),columns=['TM_venue','SH_venue','MATCH','Score'])\n",
    "sg_venue_score85 = pd.DataFrame(sg1.apply(venue_match,axis=1).tolist(),columns=['TM_venue','SG_venue','MATCH','Score'])"
   ]
  },
  {
   "cell_type": "code",
   "execution_count": 6,
   "metadata": {},
   "outputs": [
    {
     "data": {
      "image/png": "[encoded data removed]",
      "text/plain": [
       "<matplotlib.figure.Figure at 0x11a038a20>"
      ]
     },
     "metadata": {},
     "output_type": "display_data"
    }
   ],
   "source": [
    "#Plot matches and scores\n",
    "fig, axs = plt.subplots(3,2,sharey=True)\n",
    "\n",
    "ax1=sns.distplot(sh_venue_score85['Score'],kde=False,ax=axs[0,0])\n",
    "ax1.title.set_text('StubHub')\n",
    "ax2=sns.distplot(sg_venue_score85['Score'],kde=False,ax=axs[0,1])\n",
    "ax2.title.set_text('SeatGeek')\n",
    "\n",
    "ax3=sns.countplot(x='MATCH', data=sh_venue_score85,ax=axs[1,0])\n",
    "ax3.title.set_text('Threshold --85')\n",
    "\n",
    "ax4=sns.countplot(x='MATCH', data=sg_venue_score85,ax=axs[1,1])\n",
    "ax4.title.set_text('Threshold --85')\n",
    "\n",
    "\n",
    "ax5=sns.countplot(x='MATCH', data=sh_venue_score,ax=axs[2,0])\n",
    "ax5.title.set_text('Threshold --90')\n",
    "\n",
    "ax6=sns.countplot(x='MATCH', data=sg_venue_score,ax=axs[2,1])\n",
    "ax6.title.set_text('Threshold --90')\n",
    "\n",
    "plt.subplots_adjust(hspace=1.25)\n"
   ]
  },
  {
   "cell_type": "code",
   "execution_count": null,
   "metadata": {},
   "outputs": [],
   "source": []
  }
 ],
 "metadata": {
  "kernelspec": {
   "display_name": "Python 3",
   "language": "python",
   "name": "python3"
  },
  "language_info": {
   "codemirror_mode": {
    "name": "ipython",
    "version": 3
   },
   "file_extension": ".py",
   "mimetype": "text/x-python",
   "name": "python",
   "nbconvert_exporter": "python",
   "pygments_lexer": "ipython3",
   "version": "3.6.3"
  }
 },
 "nbformat": 4,
 "nbformat_minor": 2
}
